{
  "nbformat": 4,
  "nbformat_minor": 0,
  "metadata": {
    "colab": {
      "provenance": []
    },
    "kernelspec": {
      "name": "python3",
      "display_name": "Python 3"
    },
    "language_info": {
      "name": "python"
    }
  },
  "cells": [
    {
      "cell_type": "code",
      "execution_count": null,
      "metadata": {
        "id": "wbSNuCk5ARZa"
      },
      "outputs": [],
      "source": [
        "import numpy as np\n",
        "import pandas as pd\n",
        "from pathlib import Path\n",
        "import os.path\n",
        "import matplotlib.pyplot as plt\n",
        "from sklearn.metrics import confusion_matrix,ConfusionMatrixDisplay\n",
        "from sklearn.metrics import classification_report, accuracy_score\n",
        "import seaborn as sns\n",
        "import tensorflow as tf\n",
        "from tensorflow.keras.preprocessing.image import load_img,img_to_array\n",
        "print(\"tf version:\", tf.__version__)\n",
        "import warnings\n",
        "warnings.filterwarnings('ignore')"
      ]
    },
    {
      "cell_type": "code",
      "source": [
        "import matplotlib.pyplot as plt\n",
        "img = load_img('../germany_dataset/train/35/00035_00032_00000.png')\n",
        "plt.imshow(img)"
      ],
      "metadata": {
        "id": "cLjRK7P6Acfp"
      },
      "execution_count": null,
      "outputs": []
    },
    {
      "cell_type": "code",
      "source": [
        "import matplotlib.pyplot as plt\n",
        "img = load_img('../germany_dataset/meta/37.png')\n",
        "plt.imshow(img)"
      ],
      "metadata": {
        "id": "hUF9ig3EAgf0"
      },
      "execution_count": null,
      "outputs": []
    },
    {
      "cell_type": "code",
      "source": [
        "import matplotlib.pyplot as plt\n",
        "img = load_img('../germany_dataset/test/01301.png')\n",
        "plt.imshow(img)"
      ],
      "metadata": {
        "id": "1DDJ9WqdAgRi"
      },
      "execution_count": null,
      "outputs": []
    },
    {
      "cell_type": "code",
      "source": [
        "df_meta=pd.read_csv('../germany_dataset/Meta.csv')\n",
        "df_meta.head()"
      ],
      "metadata": {
        "id": "E0Ch-kRMAgOC"
      },
      "execution_count": null,
      "outputs": []
    },
    {
      "cell_type": "code",
      "source": [
        "df_train=pd.read_csv('../germany_dataset/train.csv')\n",
        "num_of_classes = df_train[\"ClassId\"].nunique()\n",
        "df_train.head(), df_train.shape"
      ],
      "metadata": {
        "id": "P_bNFNykAgLl"
      },
      "execution_count": null,
      "outputs": []
    },
    {
      "cell_type": "code",
      "source": [
        "df_test=pd.read_csv('../germany_dataset/test.csv')\n",
        "df_test.head(), df_test.shape"
      ],
      "metadata": {
        "id": "txV2GU3MAgJA"
      },
      "execution_count": null,
      "outputs": []
    },
    {
      "cell_type": "code",
      "source": [
        "df_train=df_train[['ClassId','Path']]\n",
        "df_train.head()"
      ],
      "metadata": {
        "id": "J0CSX1OyAgGl"
      },
      "execution_count": null,
      "outputs": []
    },
    {
      "cell_type": "code",
      "source": [
        "path='../germany_dataset/'\n",
        "df_unique = df_train.copy().drop_duplicates(subset=[\"ClassId\"]).reset_index()\n",
        "\n",
        "# Display some pictures of the dataset\n",
        "fig, axes = plt.subplots(nrows=6, ncols=6, figsize=(8, 7),\n",
        "                        subplot_kw={'xticks': [], 'yticks': []})\n",
        "\n",
        "for i, ax in enumerate(axes.flat):\n",
        "    ax.imshow(plt.imread(path + str(df_unique.Path[i])))\n",
        "    ax.set_title(df_unique.ClassId[i], fontsize = 12)\n",
        "plt.tight_layout(pad=0.5)\n",
        "plt.show()"
      ],
      "metadata": {
        "id": "DzcYP9fBAf7r"
      },
      "execution_count": null,
      "outputs": []
    },
    {
      "cell_type": "code",
      "source": [
        "import cv2\n",
        "path='../germany_dataset/'\n",
        "def img_preprocess(df_input):\n",
        "    X = []\n",
        "    for img_path in df_input:\n",
        "        img = cv2.imread(path + str(img_path))\n",
        "\n",
        "        if img is None:\n",
        "            print(f\"Image cannot be loaded: {img_path}\")\n",
        "            continue\n",
        "\n",
        "        img = cv2.resize(img, (30, 30))\n",
        "\n",
        "        img = img / 255.0\n",
        "\n",
        "        X.append(img)\n",
        "    X = np.array(X)\n",
        "    return X"
      ],
      "metadata": {
        "id": "CL3hSh80AfjA"
      },
      "execution_count": null,
      "outputs": []
    },
    {
      "cell_type": "code",
      "source": [
        "X=img_preprocess(df_train['Path'])"
      ],
      "metadata": {
        "id": "Z_-hylj8A2ib"
      },
      "execution_count": null,
      "outputs": []
    },
    {
      "cell_type": "code",
      "source": [
        "y=df_train['ClassId'].to_numpy()"
      ],
      "metadata": {
        "id": "s9mduLMXA2VG"
      },
      "execution_count": null,
      "outputs": []
    },
    {
      "cell_type": "code",
      "source": [
        "from sklearn.model_selection import train_test_split\n",
        "X_train,X_test,y_train,y_test=train_test_split(X,y,test_size=.20,random_state=42)"
      ],
      "metadata": {
        "id": "FRDptY5NA2GF"
      },
      "execution_count": null,
      "outputs": []
    },
    {
      "cell_type": "code",
      "source": [
        "X_train.shape"
      ],
      "metadata": {
        "id": "4vrxKpiQA7-a"
      },
      "execution_count": null,
      "outputs": []
    },
    {
      "cell_type": "code",
      "source": [
        "from tensorflow.keras.layers import Input, Dense, Conv2D, InputLayer, Reshape, MaxPooling2D, Flatten,Dropout, BatchNormalization\n",
        "from keras.models import Sequential"
      ],
      "metadata": {
        "id": "tsQrpgY6A77M"
      },
      "execution_count": null,
      "outputs": []
    },
    {
      "cell_type": "code",
      "source": [
        "from tensorflow.keras.models import Sequential\n",
        "from tensorflow.keras.layers import Input, Conv2D, MaxPooling2D, Flatten, Dense\n",
        "\n",
        "model = Sequential()\n",
        "model.add(Conv2D(32, kernel_size=(3, 3), activation='relu', input_shape=(30, 30, 3)))\n",
        "model.add(MaxPooling2D(pool_size=(2, 2)))\n",
        "model.add(Conv2D(64, kernel_size=(3, 3), activation='relu'))\n",
        "model.add(MaxPooling2D(pool_size=(2, 2)))\n",
        "model.add(Conv2D(128, kernel_size=(3, 3), activation='relu'))\n",
        "model.add(Flatten())\n",
        "model.add(Dense(128, activation='relu'))\n",
        "model.add(Dense(43, activation='softmax'))  # 43 kategori\n",
        "\n",
        "# Modelin derlenmesi\n",
        "model.compile(optimizer='adam', loss='sparse_categorical_crossentropy', metrics=['accuracy'])"
      ],
      "metadata": {
        "id": "Ta5POd8UA74s"
      },
      "execution_count": null,
      "outputs": []
    },
    {
      "cell_type": "code",
      "source": [
        "history=model.fit(X_train,y_train,validation_data=(X_test,y_test),epochs=200,verbose=1)"
      ],
      "metadata": {
        "id": "eWU3XzKuBGS7"
      },
      "execution_count": null,
      "outputs": []
    },
    {
      "cell_type": "code",
      "source": [
        "df_test[\"ClassId\"] =df_test[\"ClassId\"].astype(int)\n",
        "print(\"Number of Test Images are \", len(df_test))\n",
        "df_test.dropna()\n",
        "df_test.head()"
      ],
      "metadata": {
        "id": "__TLt7bhA72E"
      },
      "execution_count": null,
      "outputs": []
    },
    {
      "cell_type": "code",
      "source": [
        "X_test = img_preprocess(df_test[\"Path\"])"
      ],
      "metadata": {
        "id": "KM9V78cRA7qv"
      },
      "execution_count": null,
      "outputs": []
    },
    {
      "cell_type": "code",
      "source": [
        "y_test = df_test[\"ClassId\"].values"
      ],
      "metadata": {
        "id": "01I64V0mBNMW"
      },
      "execution_count": null,
      "outputs": []
    },
    {
      "cell_type": "code",
      "source": [
        "y_pred = model.predict(X_test)"
      ],
      "metadata": {
        "id": "1hhb3NkLBM8j"
      },
      "execution_count": null,
      "outputs": []
    },
    {
      "cell_type": "code",
      "source": [
        "y_pred = np.argmax(y_pred, axis=1)"
      ],
      "metadata": {
        "id": "uwB4bkGwBMwu"
      },
      "execution_count": null,
      "outputs": []
    },
    {
      "cell_type": "code",
      "source": [
        "print(y_pred)"
      ],
      "metadata": {
        "id": "CuoYBsWLBMhp"
      },
      "execution_count": null,
      "outputs": []
    },
    {
      "cell_type": "code",
      "source": [
        "print(y_test)"
      ],
      "metadata": {
        "id": "0F44Qrx7BVXo"
      },
      "execution_count": null,
      "outputs": []
    },
    {
      "cell_type": "code",
      "source": [
        "confusion = confusion_matrix(y_test, y_pred)\n",
        "\n",
        "# Calculate accuracy\n",
        "accuracy = np.sum(np.diag(confusion)) / np.sum(confusion)\n",
        "print(\"Total Accuracy: \", accuracy*100)\n",
        "\n",
        "# Calculate precision, recall, and F1-score\n",
        "classification_rep = classification_report(y_test, y_pred, labels=np.unique(y_pred))\n",
        "\n",
        "# Print the results\n",
        "print(\"\\nConfusion Matrix:\\n\", confusion)\n",
        "\n",
        "\n",
        "lines = classification_rep.split('\\n')\n",
        "data = []\n",
        "\n",
        "for line in lines[2:-5]:  # Exclude header and footer lines\n",
        "    row_data = line.split()\n",
        "    if len(row_data) > 0:\n",
        "        class_name = row_data[0]\n",
        "        precision = float(row_data[1])\n",
        "        recall = float(row_data[2])\n",
        "        f1_score = float(row_data[3])\n",
        "        support = int(float(row_data[4]))\n",
        "        data.append([class_name, precision, recall, f1_score, support])\n",
        "\n",
        "# Create a DataFrame\n",
        "report = pd.DataFrame(data, columns=['Class', 'Precision', 'Recall', 'F1-Score', 'Support'])\n",
        "# Print the DataFrame\n",
        "print(\"\\n\\n\\n Summarizing the results : \")\n",
        "report"
      ],
      "metadata": {
        "id": "84_cXL6tBZLP"
      },
      "execution_count": null,
      "outputs": []
    },
    {
      "cell_type": "code",
      "source": [
        "class_names = []\n",
        "for i in range(num_of_classes):\n",
        "    class_names.append(\"Class \"+str(i))\n",
        "# Create a heatmap\n",
        "plt.figure(figsize=(10, 8))\n",
        "sns.heatmap(confusion, annot=False, cmap=\"viridis\", xticklabels=class_names, yticklabels=class_names)\n",
        "plt.xlabel('Predicted')\n",
        "plt.ylabel('Actual')\n",
        "plt.title('Confusion Matrix')\n",
        "plt.show()"
      ],
      "metadata": {
        "id": "-h1IcSqeBY-V"
      },
      "execution_count": null,
      "outputs": []
    }
  ]
}